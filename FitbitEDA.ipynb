{
 "cells": [
  {
   "cell_type": "markdown",
   "metadata": {},
   "source": [
    "## Exploratory Data Analysis on Fitbit Device Data\n",
    "### Saptak Bhadra"
   ]
  },
  {
   "cell_type": "code",
   "execution_count": 2,
   "metadata": {},
   "outputs": [],
   "source": [
    "import pandas as pd\n",
    "import seaborn as sns \n",
    "import matplotlib.pyplot as plt\n",
    "import numpy as np"
   ]
  },
  {
   "cell_type": "code",
   "execution_count": 3,
   "metadata": {},
   "outputs": [
    {
     "data": {
      "text/html": [
       "<div>\n",
       "<style scoped>\n",
       "    .dataframe tbody tr th:only-of-type {\n",
       "        vertical-align: middle;\n",
       "    }\n",
       "\n",
       "    .dataframe tbody tr th {\n",
       "        vertical-align: top;\n",
       "    }\n",
       "\n",
       "    .dataframe thead th {\n",
       "        text-align: right;\n",
       "    }\n",
       "</style>\n",
       "<table border=\"1\" class=\"dataframe\">\n",
       "  <thead>\n",
       "    <tr style=\"text-align: right;\">\n",
       "      <th></th>\n",
       "      <th>Id</th>\n",
       "      <th>ActivityDate</th>\n",
       "      <th>TotalSteps</th>\n",
       "      <th>TotalDistance</th>\n",
       "      <th>TrackerDistance</th>\n",
       "      <th>LoggedActivitiesDistance</th>\n",
       "      <th>VeryActiveDistance</th>\n",
       "      <th>ModeratelyActiveDistance</th>\n",
       "      <th>LightActiveDistance</th>\n",
       "      <th>SedentaryActiveDistance</th>\n",
       "      <th>VeryActiveMinutes</th>\n",
       "      <th>FairlyActiveMinutes</th>\n",
       "      <th>LightlyActiveMinutes</th>\n",
       "      <th>SedentaryMinutes</th>\n",
       "      <th>Calories</th>\n",
       "    </tr>\n",
       "  </thead>\n",
       "  <tbody>\n",
       "    <tr>\n",
       "      <th>0</th>\n",
       "      <td>1503960366</td>\n",
       "      <td>3/25/2016</td>\n",
       "      <td>11004</td>\n",
       "      <td>7.110000</td>\n",
       "      <td>7.110000</td>\n",
       "      <td>0.0</td>\n",
       "      <td>2.57</td>\n",
       "      <td>0.46</td>\n",
       "      <td>4.07</td>\n",
       "      <td>0.00</td>\n",
       "      <td>33</td>\n",
       "      <td>12</td>\n",
       "      <td>205</td>\n",
       "      <td>804</td>\n",
       "      <td>1819</td>\n",
       "    </tr>\n",
       "    <tr>\n",
       "      <th>1</th>\n",
       "      <td>1503960366</td>\n",
       "      <td>3/26/2016</td>\n",
       "      <td>17609</td>\n",
       "      <td>11.550000</td>\n",
       "      <td>11.550000</td>\n",
       "      <td>0.0</td>\n",
       "      <td>6.92</td>\n",
       "      <td>0.73</td>\n",
       "      <td>3.91</td>\n",
       "      <td>0.00</td>\n",
       "      <td>89</td>\n",
       "      <td>17</td>\n",
       "      <td>274</td>\n",
       "      <td>588</td>\n",
       "      <td>2154</td>\n",
       "    </tr>\n",
       "    <tr>\n",
       "      <th>2</th>\n",
       "      <td>1503960366</td>\n",
       "      <td>3/27/2016</td>\n",
       "      <td>12736</td>\n",
       "      <td>8.530000</td>\n",
       "      <td>8.530000</td>\n",
       "      <td>0.0</td>\n",
       "      <td>4.66</td>\n",
       "      <td>0.16</td>\n",
       "      <td>3.71</td>\n",
       "      <td>0.00</td>\n",
       "      <td>56</td>\n",
       "      <td>5</td>\n",
       "      <td>268</td>\n",
       "      <td>605</td>\n",
       "      <td>1944</td>\n",
       "    </tr>\n",
       "    <tr>\n",
       "      <th>3</th>\n",
       "      <td>1503960366</td>\n",
       "      <td>3/28/2016</td>\n",
       "      <td>13231</td>\n",
       "      <td>8.930000</td>\n",
       "      <td>8.930000</td>\n",
       "      <td>0.0</td>\n",
       "      <td>3.19</td>\n",
       "      <td>0.79</td>\n",
       "      <td>4.95</td>\n",
       "      <td>0.00</td>\n",
       "      <td>39</td>\n",
       "      <td>20</td>\n",
       "      <td>224</td>\n",
       "      <td>1080</td>\n",
       "      <td>1932</td>\n",
       "    </tr>\n",
       "    <tr>\n",
       "      <th>4</th>\n",
       "      <td>1503960366</td>\n",
       "      <td>3/29/2016</td>\n",
       "      <td>12041</td>\n",
       "      <td>7.850000</td>\n",
       "      <td>7.850000</td>\n",
       "      <td>0.0</td>\n",
       "      <td>2.16</td>\n",
       "      <td>1.09</td>\n",
       "      <td>4.61</td>\n",
       "      <td>0.00</td>\n",
       "      <td>28</td>\n",
       "      <td>28</td>\n",
       "      <td>243</td>\n",
       "      <td>763</td>\n",
       "      <td>1886</td>\n",
       "    </tr>\n",
       "    <tr>\n",
       "      <th>...</th>\n",
       "      <td>...</td>\n",
       "      <td>...</td>\n",
       "      <td>...</td>\n",
       "      <td>...</td>\n",
       "      <td>...</td>\n",
       "      <td>...</td>\n",
       "      <td>...</td>\n",
       "      <td>...</td>\n",
       "      <td>...</td>\n",
       "      <td>...</td>\n",
       "      <td>...</td>\n",
       "      <td>...</td>\n",
       "      <td>...</td>\n",
       "      <td>...</td>\n",
       "      <td>...</td>\n",
       "    </tr>\n",
       "    <tr>\n",
       "      <th>452</th>\n",
       "      <td>8877689391</td>\n",
       "      <td>4/8/2016</td>\n",
       "      <td>23014</td>\n",
       "      <td>20.389999</td>\n",
       "      <td>20.389999</td>\n",
       "      <td>0.0</td>\n",
       "      <td>11.10</td>\n",
       "      <td>0.63</td>\n",
       "      <td>8.62</td>\n",
       "      <td>0.00</td>\n",
       "      <td>70</td>\n",
       "      <td>29</td>\n",
       "      <td>359</td>\n",
       "      <td>982</td>\n",
       "      <td>4196</td>\n",
       "    </tr>\n",
       "    <tr>\n",
       "      <th>453</th>\n",
       "      <td>8877689391</td>\n",
       "      <td>4/9/2016</td>\n",
       "      <td>16470</td>\n",
       "      <td>8.070000</td>\n",
       "      <td>8.070000</td>\n",
       "      <td>0.0</td>\n",
       "      <td>0.00</td>\n",
       "      <td>0.02</td>\n",
       "      <td>8.02</td>\n",
       "      <td>0.00</td>\n",
       "      <td>90</td>\n",
       "      <td>9</td>\n",
       "      <td>289</td>\n",
       "      <td>1052</td>\n",
       "      <td>3841</td>\n",
       "    </tr>\n",
       "    <tr>\n",
       "      <th>454</th>\n",
       "      <td>8877689391</td>\n",
       "      <td>4/10/2016</td>\n",
       "      <td>28497</td>\n",
       "      <td>27.530001</td>\n",
       "      <td>27.530001</td>\n",
       "      <td>0.0</td>\n",
       "      <td>21.92</td>\n",
       "      <td>1.12</td>\n",
       "      <td>4.46</td>\n",
       "      <td>0.00</td>\n",
       "      <td>128</td>\n",
       "      <td>46</td>\n",
       "      <td>211</td>\n",
       "      <td>1055</td>\n",
       "      <td>4526</td>\n",
       "    </tr>\n",
       "    <tr>\n",
       "      <th>455</th>\n",
       "      <td>8877689391</td>\n",
       "      <td>4/11/2016</td>\n",
       "      <td>10622</td>\n",
       "      <td>8.060000</td>\n",
       "      <td>8.060000</td>\n",
       "      <td>0.0</td>\n",
       "      <td>1.47</td>\n",
       "      <td>0.15</td>\n",
       "      <td>6.37</td>\n",
       "      <td>0.01</td>\n",
       "      <td>18</td>\n",
       "      <td>7</td>\n",
       "      <td>225</td>\n",
       "      <td>1190</td>\n",
       "      <td>2820</td>\n",
       "    </tr>\n",
       "    <tr>\n",
       "      <th>456</th>\n",
       "      <td>8877689391</td>\n",
       "      <td>4/12/2016</td>\n",
       "      <td>2350</td>\n",
       "      <td>1.780000</td>\n",
       "      <td>1.780000</td>\n",
       "      <td>0.0</td>\n",
       "      <td>0.00</td>\n",
       "      <td>0.00</td>\n",
       "      <td>1.78</td>\n",
       "      <td>0.00</td>\n",
       "      <td>0</td>\n",
       "      <td>0</td>\n",
       "      <td>58</td>\n",
       "      <td>531</td>\n",
       "      <td>938</td>\n",
       "    </tr>\n",
       "  </tbody>\n",
       "</table>\n",
       "<p>457 rows × 15 columns</p>\n",
       "</div>"
      ],
      "text/plain": [
       "             Id ActivityDate  TotalSteps  TotalDistance  TrackerDistance  \\\n",
       "0    1503960366    3/25/2016       11004       7.110000         7.110000   \n",
       "1    1503960366    3/26/2016       17609      11.550000        11.550000   \n",
       "2    1503960366    3/27/2016       12736       8.530000         8.530000   \n",
       "3    1503960366    3/28/2016       13231       8.930000         8.930000   \n",
       "4    1503960366    3/29/2016       12041       7.850000         7.850000   \n",
       "..          ...          ...         ...            ...              ...   \n",
       "452  8877689391     4/8/2016       23014      20.389999        20.389999   \n",
       "453  8877689391     4/9/2016       16470       8.070000         8.070000   \n",
       "454  8877689391    4/10/2016       28497      27.530001        27.530001   \n",
       "455  8877689391    4/11/2016       10622       8.060000         8.060000   \n",
       "456  8877689391    4/12/2016        2350       1.780000         1.780000   \n",
       "\n",
       "     LoggedActivitiesDistance  VeryActiveDistance  ModeratelyActiveDistance  \\\n",
       "0                         0.0                2.57                      0.46   \n",
       "1                         0.0                6.92                      0.73   \n",
       "2                         0.0                4.66                      0.16   \n",
       "3                         0.0                3.19                      0.79   \n",
       "4                         0.0                2.16                      1.09   \n",
       "..                        ...                 ...                       ...   \n",
       "452                       0.0               11.10                      0.63   \n",
       "453                       0.0                0.00                      0.02   \n",
       "454                       0.0               21.92                      1.12   \n",
       "455                       0.0                1.47                      0.15   \n",
       "456                       0.0                0.00                      0.00   \n",
       "\n",
       "     LightActiveDistance  SedentaryActiveDistance  VeryActiveMinutes  \\\n",
       "0                   4.07                     0.00                 33   \n",
       "1                   3.91                     0.00                 89   \n",
       "2                   3.71                     0.00                 56   \n",
       "3                   4.95                     0.00                 39   \n",
       "4                   4.61                     0.00                 28   \n",
       "..                   ...                      ...                ...   \n",
       "452                 8.62                     0.00                 70   \n",
       "453                 8.02                     0.00                 90   \n",
       "454                 4.46                     0.00                128   \n",
       "455                 6.37                     0.01                 18   \n",
       "456                 1.78                     0.00                  0   \n",
       "\n",
       "     FairlyActiveMinutes  LightlyActiveMinutes  SedentaryMinutes  Calories  \n",
       "0                     12                   205               804      1819  \n",
       "1                     17                   274               588      2154  \n",
       "2                      5                   268               605      1944  \n",
       "3                     20                   224              1080      1932  \n",
       "4                     28                   243               763      1886  \n",
       "..                   ...                   ...               ...       ...  \n",
       "452                   29                   359               982      4196  \n",
       "453                    9                   289              1052      3841  \n",
       "454                   46                   211              1055      4526  \n",
       "455                    7                   225              1190      2820  \n",
       "456                    0                    58               531       938  \n",
       "\n",
       "[457 rows x 15 columns]"
      ]
     },
     "execution_count": 3,
     "metadata": {},
     "output_type": "execute_result"
    }
   ],
   "source": [
    "data=pd.read_csv('D:\\PythonFiles\\MLD ineuron\\FitBit\\FitBit data.csv')\n",
    "data"
   ]
  },
  {
   "cell_type": "code",
   "execution_count": 4,
   "metadata": {},
   "outputs": [
    {
     "name": "stdout",
     "output_type": "stream",
     "text": [
      "<class 'pandas.core.frame.DataFrame'>\n",
      "RangeIndex: 457 entries, 0 to 456\n",
      "Data columns (total 15 columns):\n",
      " #   Column                    Non-Null Count  Dtype  \n",
      "---  ------                    --------------  -----  \n",
      " 0   Id                        457 non-null    int64  \n",
      " 1   ActivityDate              457 non-null    object \n",
      " 2   TotalSteps                457 non-null    int64  \n",
      " 3   TotalDistance             457 non-null    float64\n",
      " 4   TrackerDistance           457 non-null    float64\n",
      " 5   LoggedActivitiesDistance  457 non-null    float64\n",
      " 6   VeryActiveDistance        457 non-null    float64\n",
      " 7   ModeratelyActiveDistance  457 non-null    float64\n",
      " 8   LightActiveDistance       457 non-null    float64\n",
      " 9   SedentaryActiveDistance   457 non-null    float64\n",
      " 10  VeryActiveMinutes         457 non-null    int64  \n",
      " 11  FairlyActiveMinutes       457 non-null    int64  \n",
      " 12  LightlyActiveMinutes      457 non-null    int64  \n",
      " 13  SedentaryMinutes          457 non-null    int64  \n",
      " 14  Calories                  457 non-null    int64  \n",
      "dtypes: float64(7), int64(7), object(1)\n",
      "memory usage: 53.7+ KB\n"
     ]
    }
   ],
   "source": [
    "data.info()"
   ]
  },
  {
   "cell_type": "markdown",
   "metadata": {},
   "source": [
    "##### Adding the corrosponding day of the week from the date"
   ]
  },
  {
   "cell_type": "code",
   "execution_count": 5,
   "metadata": {},
   "outputs": [
    {
     "name": "stderr",
     "output_type": "stream",
     "text": [
      "D:\\Softwares\\Anaconda\\envs\\myenv\\lib\\site-packages\\ipykernel_launcher.py:14: SettingWithCopyWarning: \n",
      "A value is trying to be set on a copy of a slice from a DataFrame\n",
      "\n",
      "See the caveats in the documentation: https://pandas.pydata.org/pandas-docs/stable/user_guide/indexing.html#returning-a-view-versus-a-copy\n",
      "  \n",
      "D:\\Softwares\\Anaconda\\envs\\myenv\\lib\\site-packages\\pandas\\core\\indexing.py:670: SettingWithCopyWarning: \n",
      "A value is trying to be set on a copy of a slice from a DataFrame\n",
      "\n",
      "See the caveats in the documentation: https://pandas.pydata.org/pandas-docs/stable/user_guide/indexing.html#returning-a-view-versus-a-copy\n",
      "  iloc._setitem_with_indexer(indexer, value)\n"
     ]
    }
   ],
   "source": [
    "import datetime  \n",
    "from datetime import date \n",
    "import calendar \n",
    "\n",
    "data['Day']=0\n",
    "\n",
    "def findDay(date): \n",
    "    month,day, year = (int(i) for i in date.split('/'))     \n",
    "    born = datetime.date(year, month, day) \n",
    "    return born.strftime(\"%A\") \n",
    "  \n",
    "# Driver program \n",
    "for i in range(0,len(data['ActivityDate'])):\n",
    "    data['Day'][i] = findDay(data['ActivityDate'][i])\n",
    " "
   ]
  },
  {
   "cell_type": "code",
   "execution_count": 6,
   "metadata": {},
   "outputs": [
    {
     "data": {
      "text/html": [
       "<div>\n",
       "<style scoped>\n",
       "    .dataframe tbody tr th:only-of-type {\n",
       "        vertical-align: middle;\n",
       "    }\n",
       "\n",
       "    .dataframe tbody tr th {\n",
       "        vertical-align: top;\n",
       "    }\n",
       "\n",
       "    .dataframe thead th {\n",
       "        text-align: right;\n",
       "    }\n",
       "</style>\n",
       "<table border=\"1\" class=\"dataframe\">\n",
       "  <thead>\n",
       "    <tr style=\"text-align: right;\">\n",
       "      <th></th>\n",
       "      <th>ActivityDate</th>\n",
       "      <th>Day</th>\n",
       "    </tr>\n",
       "  </thead>\n",
       "  <tbody>\n",
       "    <tr>\n",
       "      <th>0</th>\n",
       "      <td>3/25/2016</td>\n",
       "      <td>Friday</td>\n",
       "    </tr>\n",
       "    <tr>\n",
       "      <th>1</th>\n",
       "      <td>3/26/2016</td>\n",
       "      <td>Saturday</td>\n",
       "    </tr>\n",
       "    <tr>\n",
       "      <th>2</th>\n",
       "      <td>3/27/2016</td>\n",
       "      <td>Sunday</td>\n",
       "    </tr>\n",
       "    <tr>\n",
       "      <th>3</th>\n",
       "      <td>3/28/2016</td>\n",
       "      <td>Monday</td>\n",
       "    </tr>\n",
       "    <tr>\n",
       "      <th>4</th>\n",
       "      <td>3/29/2016</td>\n",
       "      <td>Tuesday</td>\n",
       "    </tr>\n",
       "  </tbody>\n",
       "</table>\n",
       "</div>"
      ],
      "text/plain": [
       "  ActivityDate       Day\n",
       "0    3/25/2016    Friday\n",
       "1    3/26/2016  Saturday\n",
       "2    3/27/2016    Sunday\n",
       "3    3/28/2016    Monday\n",
       "4    3/29/2016   Tuesday"
      ]
     },
     "execution_count": 6,
     "metadata": {},
     "output_type": "execute_result"
    }
   ],
   "source": [
    "#Days Added\n",
    "data[['ActivityDate','Day']].head()"
   ]
  },
  {
   "cell_type": "markdown",
   "metadata": {},
   "source": [
    "##### Converting ActivityDate into datetime format"
   ]
  },
  {
   "cell_type": "code",
   "execution_count": 7,
   "metadata": {},
   "outputs": [
    {
     "data": {
      "text/plain": [
       "0     2016-03-25\n",
       "1     2016-03-26\n",
       "2     2016-03-27\n",
       "3     2016-03-28\n",
       "4     2016-03-29\n",
       "         ...    \n",
       "452   2016-04-08\n",
       "453   2016-04-09\n",
       "454   2016-04-10\n",
       "455   2016-04-11\n",
       "456   2016-04-12\n",
       "Name: ActivityDate, Length: 457, dtype: datetime64[ns]"
      ]
     },
     "execution_count": 7,
     "metadata": {},
     "output_type": "execute_result"
    }
   ],
   "source": [
    "data['ActivityDate']=pd.to_datetime(data['ActivityDate'])\n",
    "data['ActivityDate']"
   ]
  },
  {
   "cell_type": "code",
   "execution_count": 8,
   "metadata": {},
   "outputs": [
    {
     "data": {
      "text/html": [
       "<div>\n",
       "<style scoped>\n",
       "    .dataframe tbody tr th:only-of-type {\n",
       "        vertical-align: middle;\n",
       "    }\n",
       "\n",
       "    .dataframe tbody tr th {\n",
       "        vertical-align: top;\n",
       "    }\n",
       "\n",
       "    .dataframe thead th {\n",
       "        text-align: right;\n",
       "    }\n",
       "</style>\n",
       "<table border=\"1\" class=\"dataframe\">\n",
       "  <thead>\n",
       "    <tr style=\"text-align: right;\">\n",
       "      <th></th>\n",
       "      <th>Id</th>\n",
       "      <th>Day</th>\n",
       "      <th>TotalDistance</th>\n",
       "    </tr>\n",
       "  </thead>\n",
       "  <tbody>\n",
       "    <tr>\n",
       "      <th>0</th>\n",
       "      <td>1503960366</td>\n",
       "      <td>Friday</td>\n",
       "      <td>22.920000</td>\n",
       "    </tr>\n",
       "    <tr>\n",
       "      <th>1</th>\n",
       "      <td>1503960366</td>\n",
       "      <td>Monday</td>\n",
       "      <td>25.990001</td>\n",
       "    </tr>\n",
       "    <tr>\n",
       "      <th>2</th>\n",
       "      <td>1503960366</td>\n",
       "      <td>Saturday</td>\n",
       "      <td>26.900001</td>\n",
       "    </tr>\n",
       "    <tr>\n",
       "      <th>3</th>\n",
       "      <td>1503960366</td>\n",
       "      <td>Sunday</td>\n",
       "      <td>21.880000</td>\n",
       "    </tr>\n",
       "    <tr>\n",
       "      <th>4</th>\n",
       "      <td>1503960366</td>\n",
       "      <td>Thursday</td>\n",
       "      <td>14.300000</td>\n",
       "    </tr>\n",
       "    <tr>\n",
       "      <th>5</th>\n",
       "      <td>1503960366</td>\n",
       "      <td>Tuesday</td>\n",
       "      <td>17.719999</td>\n",
       "    </tr>\n",
       "    <tr>\n",
       "      <th>6</th>\n",
       "      <td>1503960366</td>\n",
       "      <td>Wednesday</td>\n",
       "      <td>14.830000</td>\n",
       "    </tr>\n",
       "    <tr>\n",
       "      <th>7</th>\n",
       "      <td>1624580081</td>\n",
       "      <td>Friday</td>\n",
       "      <td>11.290000</td>\n",
       "    </tr>\n",
       "    <tr>\n",
       "      <th>8</th>\n",
       "      <td>1624580081</td>\n",
       "      <td>Monday</td>\n",
       "      <td>19.740000</td>\n",
       "    </tr>\n",
       "    <tr>\n",
       "      <th>9</th>\n",
       "      <td>1624580081</td>\n",
       "      <td>Saturday</td>\n",
       "      <td>3.860000</td>\n",
       "    </tr>\n",
       "    <tr>\n",
       "      <th>10</th>\n",
       "      <td>1624580081</td>\n",
       "      <td>Sunday</td>\n",
       "      <td>5.720000</td>\n",
       "    </tr>\n",
       "    <tr>\n",
       "      <th>11</th>\n",
       "      <td>1624580081</td>\n",
       "      <td>Thursday</td>\n",
       "      <td>3.650000</td>\n",
       "    </tr>\n",
       "    <tr>\n",
       "      <th>12</th>\n",
       "      <td>1624580081</td>\n",
       "      <td>Tuesday</td>\n",
       "      <td>6.190000</td>\n",
       "    </tr>\n",
       "    <tr>\n",
       "      <th>13</th>\n",
       "      <td>1624580081</td>\n",
       "      <td>Wednesday</td>\n",
       "      <td>1.740000</td>\n",
       "    </tr>\n",
       "    <tr>\n",
       "      <th>14</th>\n",
       "      <td>1644430081</td>\n",
       "      <td>Friday</td>\n",
       "      <td>9.110000</td>\n",
       "    </tr>\n",
       "    <tr>\n",
       "      <th>15</th>\n",
       "      <td>1644430081</td>\n",
       "      <td>Monday</td>\n",
       "      <td>2.050000</td>\n",
       "    </tr>\n",
       "    <tr>\n",
       "      <th>16</th>\n",
       "      <td>1644430081</td>\n",
       "      <td>Saturday</td>\n",
       "      <td>24.770000</td>\n",
       "    </tr>\n",
       "    <tr>\n",
       "      <th>17</th>\n",
       "      <td>1644430081</td>\n",
       "      <td>Sunday</td>\n",
       "      <td>10.380000</td>\n",
       "    </tr>\n",
       "    <tr>\n",
       "      <th>18</th>\n",
       "      <td>1644430081</td>\n",
       "      <td>Thursday</td>\n",
       "      <td>8.120000</td>\n",
       "    </tr>\n",
       "    <tr>\n",
       "      <th>19</th>\n",
       "      <td>1644430081</td>\n",
       "      <td>Tuesday</td>\n",
       "      <td>7.210000</td>\n",
       "    </tr>\n",
       "  </tbody>\n",
       "</table>\n",
       "</div>"
      ],
      "text/plain": [
       "            Id        Day  TotalDistance\n",
       "0   1503960366     Friday      22.920000\n",
       "1   1503960366     Monday      25.990001\n",
       "2   1503960366   Saturday      26.900001\n",
       "3   1503960366     Sunday      21.880000\n",
       "4   1503960366   Thursday      14.300000\n",
       "5   1503960366    Tuesday      17.719999\n",
       "6   1503960366  Wednesday      14.830000\n",
       "7   1624580081     Friday      11.290000\n",
       "8   1624580081     Monday      19.740000\n",
       "9   1624580081   Saturday       3.860000\n",
       "10  1624580081     Sunday       5.720000\n",
       "11  1624580081   Thursday       3.650000\n",
       "12  1624580081    Tuesday       6.190000\n",
       "13  1624580081  Wednesday       1.740000\n",
       "14  1644430081     Friday       9.110000\n",
       "15  1644430081     Monday       2.050000\n",
       "16  1644430081   Saturday      24.770000\n",
       "17  1644430081     Sunday      10.380000\n",
       "18  1644430081   Thursday       8.120000\n",
       "19  1644430081    Tuesday       7.210000"
      ]
     },
     "execution_count": 8,
     "metadata": {},
     "output_type": "execute_result"
    }
   ],
   "source": [
    "id_dis=data.groupby(['Id','Day'])['TotalDistance'].agg('sum').to_frame().reset_index()\n",
    "\n",
    "id_dis.head(20)\n",
    "# for Id,ActivityDate in id_dis:\n",
    "#     print(idTotalDistance)"
   ]
  },
  {
   "cell_type": "code",
   "execution_count": 9,
   "metadata": {},
   "outputs": [
    {
     "data": {
      "image/png": "[encoded data removed]",
      "text/plain": [
       "<Figure size 432x288 with 2 Axes>"
      ]
     },
     "metadata": {
      "needs_background": "light"
     },
     "output_type": "display_data"
    }
   ],
   "source": [
    "# Visualizing what is the relation between the DAY and the total distance for a particular person\n",
    "def day_dis(id):\n",
    "\n",
    "    fig, axs = plt.subplots(2) \n",
    "    axs[0].bar(data['Day'],data['TotalDistance'])\n",
    "    axs[0].set_title('Total Distance')\n",
    "    axs[1].bar(data['Day'],data['Calories']) \n",
    "    fig.suptitle('Total Distance,Calories Variation') \n",
    "    axs[1].set_title('Calories')\n",
    "        \n",
    "day_dis(1624580081)\n",
    "plt.show()"
   ]
  },
  {
   "cell_type": "code",
   "execution_count": 10,
   "metadata": {},
   "outputs": [],
   "source": [
    "totdis=data.groupby(['Id'])['TotalDistance'].agg('sum')\n"
   ]
  },
  {
   "cell_type": "code",
   "execution_count": 11,
   "metadata": {},
   "outputs": [
    {
     "data": {
      "text/plain": [
       "52.18999946117401"
      ]
     },
     "execution_count": 11,
     "metadata": {},
     "output_type": "execute_result"
    }
   ],
   "source": [
    "data.loc[(data['Id']==1624580081),'TotalDistance'].sum()"
   ]
  },
  {
   "cell_type": "markdown",
   "metadata": {},
   "source": [
    "## Feature Creation\n",
    "#### Calculating the Step size of  the individual everyday of the Week\n",
    "\n",
    "\\begin{equation*}\n",
    "StepSize=\\frac{Total Tracker Distance}{Total Steps}\n",
    "\\end{equation*}"
   ]
  },
  {
   "cell_type": "code",
   "execution_count": 12,
   "metadata": {},
   "outputs": [
    {
     "name": "stderr",
     "output_type": "stream",
     "text": [
      "D:\\Softwares\\Anaconda\\envs\\myenv\\lib\\site-packages\\ipykernel_launcher.py:4: SettingWithCopyWarning: \n",
      "A value is trying to be set on a copy of a slice from a DataFrame\n",
      "\n",
      "See the caveats in the documentation: https://pandas.pydata.org/pandas-docs/stable/user_guide/indexing.html#returning-a-view-versus-a-copy\n",
      "  after removing the cwd from sys.path.\n",
      "D:\\Softwares\\Anaconda\\envs\\myenv\\lib\\site-packages\\ipykernel_launcher.py:4: RuntimeWarning: invalid value encountered in double_scalars\n",
      "  after removing the cwd from sys.path.\n"
     ]
    },
    {
     "data": {
      "text/plain": [
       "0      0.000646129\n",
       "1      0.000655915\n",
       "2      0.000669755\n",
       "3       0.00067493\n",
       "4      0.000651939\n",
       "          ...     \n",
       "452    0.000885982\n",
       "453    0.000489982\n",
       "454    0.000966067\n",
       "455    0.000758803\n",
       "456    0.000757447\n",
       "Name: StepSize, Length: 457, dtype: object"
      ]
     },
     "execution_count": 12,
     "metadata": {},
     "output_type": "execute_result"
    }
   ],
   "source": [
    "#Step size is in Kilometers\n",
    "data['StepSize']=None\n",
    "for i in range(0,len(data['TotalDistance'])):\n",
    "    data['StepSize'][i]=((data['TrackerDistance'][i]) / data['TotalSteps'][i])\n",
    "data['StepSize']"
   ]
  },
  {
   "cell_type": "code",
   "execution_count": 13,
   "metadata": {},
   "outputs": [
    {
     "data": {
      "text/html": [
       "<div>\n",
       "<style scoped>\n",
       "    .dataframe tbody tr th:only-of-type {\n",
       "        vertical-align: middle;\n",
       "    }\n",
       "\n",
       "    .dataframe tbody tr th {\n",
       "        vertical-align: top;\n",
       "    }\n",
       "\n",
       "    .dataframe thead th {\n",
       "        text-align: right;\n",
       "    }\n",
       "</style>\n",
       "<table border=\"1\" class=\"dataframe\">\n",
       "  <thead>\n",
       "    <tr style=\"text-align: right;\">\n",
       "      <th></th>\n",
       "      <th>Id</th>\n",
       "      <th>ActivityDate</th>\n",
       "      <th>TotalSteps</th>\n",
       "      <th>TotalDistance</th>\n",
       "      <th>TrackerDistance</th>\n",
       "      <th>LoggedActivitiesDistance</th>\n",
       "      <th>VeryActiveDistance</th>\n",
       "      <th>ModeratelyActiveDistance</th>\n",
       "      <th>LightActiveDistance</th>\n",
       "      <th>SedentaryActiveDistance</th>\n",
       "      <th>VeryActiveMinutes</th>\n",
       "      <th>FairlyActiveMinutes</th>\n",
       "      <th>LightlyActiveMinutes</th>\n",
       "      <th>SedentaryMinutes</th>\n",
       "      <th>Calories</th>\n",
       "      <th>Day</th>\n",
       "      <th>StepSize</th>\n",
       "    </tr>\n",
       "  </thead>\n",
       "  <tbody>\n",
       "    <tr>\n",
       "      <th>0</th>\n",
       "      <td>1503960366</td>\n",
       "      <td>2016-03-25</td>\n",
       "      <td>11004</td>\n",
       "      <td>7.11</td>\n",
       "      <td>7.11</td>\n",
       "      <td>0.0</td>\n",
       "      <td>2.57</td>\n",
       "      <td>0.46</td>\n",
       "      <td>4.07</td>\n",
       "      <td>0.0</td>\n",
       "      <td>33</td>\n",
       "      <td>12</td>\n",
       "      <td>205</td>\n",
       "      <td>804</td>\n",
       "      <td>1819</td>\n",
       "      <td>Friday</td>\n",
       "      <td>0.000646129</td>\n",
       "    </tr>\n",
       "    <tr>\n",
       "      <th>1</th>\n",
       "      <td>1503960366</td>\n",
       "      <td>2016-03-26</td>\n",
       "      <td>17609</td>\n",
       "      <td>11.55</td>\n",
       "      <td>11.55</td>\n",
       "      <td>0.0</td>\n",
       "      <td>6.92</td>\n",
       "      <td>0.73</td>\n",
       "      <td>3.91</td>\n",
       "      <td>0.0</td>\n",
       "      <td>89</td>\n",
       "      <td>17</td>\n",
       "      <td>274</td>\n",
       "      <td>588</td>\n",
       "      <td>2154</td>\n",
       "      <td>Saturday</td>\n",
       "      <td>0.000655915</td>\n",
       "    </tr>\n",
       "    <tr>\n",
       "      <th>2</th>\n",
       "      <td>1503960366</td>\n",
       "      <td>2016-03-27</td>\n",
       "      <td>12736</td>\n",
       "      <td>8.53</td>\n",
       "      <td>8.53</td>\n",
       "      <td>0.0</td>\n",
       "      <td>4.66</td>\n",
       "      <td>0.16</td>\n",
       "      <td>3.71</td>\n",
       "      <td>0.0</td>\n",
       "      <td>56</td>\n",
       "      <td>5</td>\n",
       "      <td>268</td>\n",
       "      <td>605</td>\n",
       "      <td>1944</td>\n",
       "      <td>Sunday</td>\n",
       "      <td>0.000669755</td>\n",
       "    </tr>\n",
       "    <tr>\n",
       "      <th>3</th>\n",
       "      <td>1503960366</td>\n",
       "      <td>2016-03-28</td>\n",
       "      <td>13231</td>\n",
       "      <td>8.93</td>\n",
       "      <td>8.93</td>\n",
       "      <td>0.0</td>\n",
       "      <td>3.19</td>\n",
       "      <td>0.79</td>\n",
       "      <td>4.95</td>\n",
       "      <td>0.0</td>\n",
       "      <td>39</td>\n",
       "      <td>20</td>\n",
       "      <td>224</td>\n",
       "      <td>1080</td>\n",
       "      <td>1932</td>\n",
       "      <td>Monday</td>\n",
       "      <td>0.00067493</td>\n",
       "    </tr>\n",
       "    <tr>\n",
       "      <th>4</th>\n",
       "      <td>1503960366</td>\n",
       "      <td>2016-03-29</td>\n",
       "      <td>12041</td>\n",
       "      <td>7.85</td>\n",
       "      <td>7.85</td>\n",
       "      <td>0.0</td>\n",
       "      <td>2.16</td>\n",
       "      <td>1.09</td>\n",
       "      <td>4.61</td>\n",
       "      <td>0.0</td>\n",
       "      <td>28</td>\n",
       "      <td>28</td>\n",
       "      <td>243</td>\n",
       "      <td>763</td>\n",
       "      <td>1886</td>\n",
       "      <td>Tuesday</td>\n",
       "      <td>0.000651939</td>\n",
       "    </tr>\n",
       "  </tbody>\n",
       "</table>\n",
       "</div>"
      ],
      "text/plain": [
       "           Id ActivityDate  TotalSteps  TotalDistance  TrackerDistance  \\\n",
       "0  1503960366   2016-03-25       11004           7.11             7.11   \n",
       "1  1503960366   2016-03-26       17609          11.55            11.55   \n",
       "2  1503960366   2016-03-27       12736           8.53             8.53   \n",
       "3  1503960366   2016-03-28       13231           8.93             8.93   \n",
       "4  1503960366   2016-03-29       12041           7.85             7.85   \n",
       "\n",
       "   LoggedActivitiesDistance  VeryActiveDistance  ModeratelyActiveDistance  \\\n",
       "0                       0.0                2.57                      0.46   \n",
       "1                       0.0                6.92                      0.73   \n",
       "2                       0.0                4.66                      0.16   \n",
       "3                       0.0                3.19                      0.79   \n",
       "4                       0.0                2.16                      1.09   \n",
       "\n",
       "   LightActiveDistance  SedentaryActiveDistance  VeryActiveMinutes  \\\n",
       "0                 4.07                      0.0                 33   \n",
       "1                 3.91                      0.0                 89   \n",
       "2                 3.71                      0.0                 56   \n",
       "3                 4.95                      0.0                 39   \n",
       "4                 4.61                      0.0                 28   \n",
       "\n",
       "   FairlyActiveMinutes  LightlyActiveMinutes  SedentaryMinutes  Calories  \\\n",
       "0                   12                   205               804      1819   \n",
       "1                   17                   274               588      2154   \n",
       "2                    5                   268               605      1944   \n",
       "3                   20                   224              1080      1932   \n",
       "4                   28                   243               763      1886   \n",
       "\n",
       "        Day     StepSize  \n",
       "0    Friday  0.000646129  \n",
       "1  Saturday  0.000655915  \n",
       "2    Sunday  0.000669755  \n",
       "3    Monday   0.00067493  \n",
       "4   Tuesday  0.000651939  "
      ]
     },
     "execution_count": 13,
     "metadata": {},
     "output_type": "execute_result"
    }
   ],
   "source": [
    "data.head()"
   ]
  },
  {
   "cell_type": "markdown",
   "metadata": {},
   "source": [
    "### Visualizing the StepSize of a person for each day of the week"
   ]
  },
  {
   "cell_type": "code",
   "execution_count": 14,
   "metadata": {},
   "outputs": [],
   "source": [
    "def day_stepsize(*id):\n",
    "    for i in id:\n",
    "        print('Id :',i)\n",
    "        plt.ylabel('Step Size')\n",
    "        plt.show()\n",
    "        return plt.bar('Day','StepSize',data=data.loc[(data['Id']==i),['Day','StepSize']])"
   ]
  },
  {
   "cell_type": "code",
   "execution_count": 15,
   "metadata": {},
   "outputs": [
    {
     "name": "stdout",
     "output_type": "stream",
     "text": [
      "Id : 5553957443\n"
     ]
    },
    {
     "data": {
      "image/png": "[encoded data removed]",
      "text/plain": [
       "<Figure size 432x288 with 1 Axes>"
      ]
     },
     "metadata": {
      "needs_background": "light"
     },
     "output_type": "display_data"
    },
    {
     "name": "stdout",
     "output_type": "stream",
     "text": [
      "Id : 5577150313\n"
     ]
    },
    {
     "data": {
      "image/png": "[encoded data removed]",
      "text/plain": [
       "<Figure size 432x288 with 1 Axes>"
      ]
     },
     "metadata": {
      "needs_background": "light"
     },
     "output_type": "display_data"
    },
    {
     "name": "stdout",
     "output_type": "stream",
     "text": [
      "Id : 6117666160\n"
     ]
    },
    {
     "data": {
      "image/png": "[encoded data removed]",
      "text/plain": [
       "<Figure size 432x288 with 1 Axes>"
      ]
     },
     "metadata": {
      "needs_background": "light"
     },
     "output_type": "display_data"
    },
    {
     "name": "stdout",
     "output_type": "stream",
     "text": [
      "Id : 6290855005\n"
     ]
    },
    {
     "data": {
      "image/png": "[encoded data removed]",
      "text/plain": [
       "<Figure size 432x288 with 1 Axes>"
      ]
     },
     "metadata": {
      "needs_background": "light"
     },
     "output_type": "display_data"
    },
    {
     "name": "stdout",
     "output_type": "stream",
     "text": [
      "Id : 6391747486\n"
     ]
    },
    {
     "data": {
      "image/png": "[encoded data removed]",
      "text/plain": [
       "<Figure size 432x288 with 1 Axes>"
      ]
     },
     "metadata": {
      "needs_background": "light"
     },
     "output_type": "display_data"
    },
    {
     "data": {
      "image/png": "[encoded data removed]",
      "text/plain": [
       "<Figure size 432x288 with 1 Axes>"
      ]
     },
     "metadata": {
      "needs_background": "light"
     },
     "output_type": "display_data"
    }
   ],
   "source": [
    "for i in data['Id'].unique()[20:25]:\n",
    "    day_stepsize(i)\n"
   ]
  },
  {
   "cell_type": "markdown",
   "metadata": {},
   "source": [
    "##### Insight: Hence we can see that those people who walk daily have a more uniform step size than those who dont"
   ]
  },
  {
   "cell_type": "code",
   "execution_count": 16,
   "metadata": {},
   "outputs": [
    {
     "data": {
      "text/plain": [
       "array([1503960366, 1624580081, 1644430081, 1844505072, 1927972279,\n",
       "       2022484408, 2026352035, 2320127002, 2347167796, 2873212765,\n",
       "       2891001357, 3372868164, 3977333714, 4020332650, 4057192912,\n",
       "       4319703577, 4388161847, 4445114986, 4558609924, 4702921684,\n",
       "       5553957443, 5577150313, 6117666160, 6290855005, 6391747486,\n",
       "       6775888955, 6962181067, 7007744171, 7086361926, 8053475328,\n",
       "       8253242879, 8378563200, 8583815059, 8792009665, 8877689391],\n",
       "      dtype=int64)"
      ]
     },
     "execution_count": 16,
     "metadata": {},
     "output_type": "execute_result"
    }
   ],
   "source": [
    "data['Id'].unique()"
   ]
  },
  {
   "cell_type": "code",
   "execution_count": 17,
   "metadata": {},
   "outputs": [
    {
     "name": "stdout",
     "output_type": "stream",
     "text": [
      "0\n",
      "1\n",
      "2\n",
      "3\n",
      "4\n",
      "5\n",
      "6\n",
      "7\n",
      "8\n",
      "9\n",
      "10\n",
      "11\n",
      "12\n",
      "13\n",
      "14\n",
      "15\n",
      "16\n",
      "17\n",
      "18\n"
     ]
    }
   ],
   "source": [
    "ds=data.loc[data['Id']==1503960366,['Day','TotalDistance']]\n",
    "for j in range(0,len(ds['TotalDistance'])):\n",
    "    print(j)"
   ]
  },
  {
   "cell_type": "code",
   "execution_count": 18,
   "metadata": {},
   "outputs": [
    {
     "data": {
      "text/html": [
       "<div>\n",
       "<style scoped>\n",
       "    .dataframe tbody tr th:only-of-type {\n",
       "        vertical-align: middle;\n",
       "    }\n",
       "\n",
       "    .dataframe tbody tr th {\n",
       "        vertical-align: top;\n",
       "    }\n",
       "\n",
       "    .dataframe thead th {\n",
       "        text-align: right;\n",
       "    }\n",
       "</style>\n",
       "<table border=\"1\" class=\"dataframe\">\n",
       "  <thead>\n",
       "    <tr style=\"text-align: right;\">\n",
       "      <th></th>\n",
       "      <th>Id</th>\n",
       "      <th>ActivityDate</th>\n",
       "      <th>TotalSteps</th>\n",
       "      <th>TotalDistance</th>\n",
       "      <th>TrackerDistance</th>\n",
       "      <th>LoggedActivitiesDistance</th>\n",
       "      <th>VeryActiveDistance</th>\n",
       "      <th>ModeratelyActiveDistance</th>\n",
       "      <th>LightActiveDistance</th>\n",
       "      <th>SedentaryActiveDistance</th>\n",
       "      <th>VeryActiveMinutes</th>\n",
       "      <th>FairlyActiveMinutes</th>\n",
       "      <th>LightlyActiveMinutes</th>\n",
       "      <th>SedentaryMinutes</th>\n",
       "      <th>Calories</th>\n",
       "      <th>Day</th>\n",
       "      <th>StepSize</th>\n",
       "    </tr>\n",
       "  </thead>\n",
       "  <tbody>\n",
       "    <tr>\n",
       "      <th>0</th>\n",
       "      <td>1503960366</td>\n",
       "      <td>2016-03-25</td>\n",
       "      <td>11004</td>\n",
       "      <td>7.11</td>\n",
       "      <td>7.11</td>\n",
       "      <td>0.0</td>\n",
       "      <td>2.57</td>\n",
       "      <td>0.46</td>\n",
       "      <td>4.07</td>\n",
       "      <td>0.0</td>\n",
       "      <td>33</td>\n",
       "      <td>12</td>\n",
       "      <td>205</td>\n",
       "      <td>804</td>\n",
       "      <td>1819</td>\n",
       "      <td>Friday</td>\n",
       "      <td>0.000646129</td>\n",
       "    </tr>\n",
       "    <tr>\n",
       "      <th>1</th>\n",
       "      <td>1503960366</td>\n",
       "      <td>2016-03-26</td>\n",
       "      <td>17609</td>\n",
       "      <td>11.55</td>\n",
       "      <td>11.55</td>\n",
       "      <td>0.0</td>\n",
       "      <td>6.92</td>\n",
       "      <td>0.73</td>\n",
       "      <td>3.91</td>\n",
       "      <td>0.0</td>\n",
       "      <td>89</td>\n",
       "      <td>17</td>\n",
       "      <td>274</td>\n",
       "      <td>588</td>\n",
       "      <td>2154</td>\n",
       "      <td>Saturday</td>\n",
       "      <td>0.000655915</td>\n",
       "    </tr>\n",
       "    <tr>\n",
       "      <th>2</th>\n",
       "      <td>1503960366</td>\n",
       "      <td>2016-03-27</td>\n",
       "      <td>12736</td>\n",
       "      <td>8.53</td>\n",
       "      <td>8.53</td>\n",
       "      <td>0.0</td>\n",
       "      <td>4.66</td>\n",
       "      <td>0.16</td>\n",
       "      <td>3.71</td>\n",
       "      <td>0.0</td>\n",
       "      <td>56</td>\n",
       "      <td>5</td>\n",
       "      <td>268</td>\n",
       "      <td>605</td>\n",
       "      <td>1944</td>\n",
       "      <td>Sunday</td>\n",
       "      <td>0.000669755</td>\n",
       "    </tr>\n",
       "    <tr>\n",
       "      <th>3</th>\n",
       "      <td>1503960366</td>\n",
       "      <td>2016-03-28</td>\n",
       "      <td>13231</td>\n",
       "      <td>8.93</td>\n",
       "      <td>8.93</td>\n",
       "      <td>0.0</td>\n",
       "      <td>3.19</td>\n",
       "      <td>0.79</td>\n",
       "      <td>4.95</td>\n",
       "      <td>0.0</td>\n",
       "      <td>39</td>\n",
       "      <td>20</td>\n",
       "      <td>224</td>\n",
       "      <td>1080</td>\n",
       "      <td>1932</td>\n",
       "      <td>Monday</td>\n",
       "      <td>0.00067493</td>\n",
       "    </tr>\n",
       "    <tr>\n",
       "      <th>4</th>\n",
       "      <td>1503960366</td>\n",
       "      <td>2016-03-29</td>\n",
       "      <td>12041</td>\n",
       "      <td>7.85</td>\n",
       "      <td>7.85</td>\n",
       "      <td>0.0</td>\n",
       "      <td>2.16</td>\n",
       "      <td>1.09</td>\n",
       "      <td>4.61</td>\n",
       "      <td>0.0</td>\n",
       "      <td>28</td>\n",
       "      <td>28</td>\n",
       "      <td>243</td>\n",
       "      <td>763</td>\n",
       "      <td>1886</td>\n",
       "      <td>Tuesday</td>\n",
       "      <td>0.000651939</td>\n",
       "    </tr>\n",
       "    <tr>\n",
       "      <th>5</th>\n",
       "      <td>1503960366</td>\n",
       "      <td>2016-03-30</td>\n",
       "      <td>10970</td>\n",
       "      <td>7.16</td>\n",
       "      <td>7.16</td>\n",
       "      <td>0.0</td>\n",
       "      <td>2.36</td>\n",
       "      <td>0.51</td>\n",
       "      <td>4.29</td>\n",
       "      <td>0.0</td>\n",
       "      <td>30</td>\n",
       "      <td>13</td>\n",
       "      <td>223</td>\n",
       "      <td>1174</td>\n",
       "      <td>1820</td>\n",
       "      <td>Wednesday</td>\n",
       "      <td>0.000652689</td>\n",
       "    </tr>\n",
       "    <tr>\n",
       "      <th>6</th>\n",
       "      <td>1503960366</td>\n",
       "      <td>2016-03-31</td>\n",
       "      <td>12256</td>\n",
       "      <td>7.86</td>\n",
       "      <td>7.86</td>\n",
       "      <td>0.0</td>\n",
       "      <td>2.29</td>\n",
       "      <td>0.49</td>\n",
       "      <td>5.04</td>\n",
       "      <td>0.0</td>\n",
       "      <td>33</td>\n",
       "      <td>12</td>\n",
       "      <td>239</td>\n",
       "      <td>820</td>\n",
       "      <td>1889</td>\n",
       "      <td>Thursday</td>\n",
       "      <td>0.000641319</td>\n",
       "    </tr>\n",
       "    <tr>\n",
       "      <th>7</th>\n",
       "      <td>1503960366</td>\n",
       "      <td>2016-04-01</td>\n",
       "      <td>12262</td>\n",
       "      <td>7.87</td>\n",
       "      <td>7.87</td>\n",
       "      <td>0.0</td>\n",
       "      <td>3.32</td>\n",
       "      <td>0.83</td>\n",
       "      <td>3.64</td>\n",
       "      <td>0.0</td>\n",
       "      <td>47</td>\n",
       "      <td>21</td>\n",
       "      <td>200</td>\n",
       "      <td>866</td>\n",
       "      <td>1868</td>\n",
       "      <td>Friday</td>\n",
       "      <td>0.00064182</td>\n",
       "    </tr>\n",
       "    <tr>\n",
       "      <th>8</th>\n",
       "      <td>1503960366</td>\n",
       "      <td>2016-04-02</td>\n",
       "      <td>11248</td>\n",
       "      <td>7.25</td>\n",
       "      <td>7.25</td>\n",
       "      <td>0.0</td>\n",
       "      <td>3.00</td>\n",
       "      <td>0.45</td>\n",
       "      <td>3.74</td>\n",
       "      <td>0.0</td>\n",
       "      <td>40</td>\n",
       "      <td>11</td>\n",
       "      <td>244</td>\n",
       "      <td>636</td>\n",
       "      <td>1843</td>\n",
       "      <td>Saturday</td>\n",
       "      <td>0.000644559</td>\n",
       "    </tr>\n",
       "    <tr>\n",
       "      <th>9</th>\n",
       "      <td>1503960366</td>\n",
       "      <td>2016-04-03</td>\n",
       "      <td>10016</td>\n",
       "      <td>6.37</td>\n",
       "      <td>6.37</td>\n",
       "      <td>0.0</td>\n",
       "      <td>0.91</td>\n",
       "      <td>1.28</td>\n",
       "      <td>4.18</td>\n",
       "      <td>0.0</td>\n",
       "      <td>15</td>\n",
       "      <td>30</td>\n",
       "      <td>314</td>\n",
       "      <td>655</td>\n",
       "      <td>1850</td>\n",
       "      <td>Sunday</td>\n",
       "      <td>0.000635982</td>\n",
       "    </tr>\n",
       "    <tr>\n",
       "      <th>10</th>\n",
       "      <td>1503960366</td>\n",
       "      <td>2016-04-04</td>\n",
       "      <td>14557</td>\n",
       "      <td>9.80</td>\n",
       "      <td>9.80</td>\n",
       "      <td>0.0</td>\n",
       "      <td>3.39</td>\n",
       "      <td>0.70</td>\n",
       "      <td>5.69</td>\n",
       "      <td>0.0</td>\n",
       "      <td>43</td>\n",
       "      <td>18</td>\n",
       "      <td>285</td>\n",
       "      <td>757</td>\n",
       "      <td>2030</td>\n",
       "      <td>Monday</td>\n",
       "      <td>0.000673216</td>\n",
       "    </tr>\n",
       "    <tr>\n",
       "      <th>11</th>\n",
       "      <td>1503960366</td>\n",
       "      <td>2016-04-05</td>\n",
       "      <td>14844</td>\n",
       "      <td>9.73</td>\n",
       "      <td>9.73</td>\n",
       "      <td>0.0</td>\n",
       "      <td>2.94</td>\n",
       "      <td>0.76</td>\n",
       "      <td>6.04</td>\n",
       "      <td>0.0</td>\n",
       "      <td>36</td>\n",
       "      <td>18</td>\n",
       "      <td>341</td>\n",
       "      <td>736</td>\n",
       "      <td>2083</td>\n",
       "      <td>Tuesday</td>\n",
       "      <td>0.000655484</td>\n",
       "    </tr>\n",
       "    <tr>\n",
       "      <th>12</th>\n",
       "      <td>1503960366</td>\n",
       "      <td>2016-04-06</td>\n",
       "      <td>11974</td>\n",
       "      <td>7.67</td>\n",
       "      <td>7.67</td>\n",
       "      <td>0.0</td>\n",
       "      <td>2.04</td>\n",
       "      <td>0.48</td>\n",
       "      <td>5.15</td>\n",
       "      <td>0.0</td>\n",
       "      <td>27</td>\n",
       "      <td>12</td>\n",
       "      <td>228</td>\n",
       "      <td>1173</td>\n",
       "      <td>1861</td>\n",
       "      <td>Wednesday</td>\n",
       "      <td>0.000640555</td>\n",
       "    </tr>\n",
       "    <tr>\n",
       "      <th>13</th>\n",
       "      <td>1503960366</td>\n",
       "      <td>2016-04-07</td>\n",
       "      <td>10198</td>\n",
       "      <td>6.44</td>\n",
       "      <td>6.44</td>\n",
       "      <td>0.0</td>\n",
       "      <td>1.20</td>\n",
       "      <td>0.79</td>\n",
       "      <td>4.45</td>\n",
       "      <td>0.0</td>\n",
       "      <td>17</td>\n",
       "      <td>20</td>\n",
       "      <td>195</td>\n",
       "      <td>1208</td>\n",
       "      <td>1755</td>\n",
       "      <td>Thursday</td>\n",
       "      <td>0.000631496</td>\n",
       "    </tr>\n",
       "    <tr>\n",
       "      <th>14</th>\n",
       "      <td>1503960366</td>\n",
       "      <td>2016-04-08</td>\n",
       "      <td>12521</td>\n",
       "      <td>7.94</td>\n",
       "      <td>7.94</td>\n",
       "      <td>0.0</td>\n",
       "      <td>3.31</td>\n",
       "      <td>0.90</td>\n",
       "      <td>3.74</td>\n",
       "      <td>0.0</td>\n",
       "      <td>46</td>\n",
       "      <td>22</td>\n",
       "      <td>212</td>\n",
       "      <td>1160</td>\n",
       "      <td>1895</td>\n",
       "      <td>Friday</td>\n",
       "      <td>0.000634135</td>\n",
       "    </tr>\n",
       "    <tr>\n",
       "      <th>15</th>\n",
       "      <td>1503960366</td>\n",
       "      <td>2016-04-09</td>\n",
       "      <td>12432</td>\n",
       "      <td>8.10</td>\n",
       "      <td>8.10</td>\n",
       "      <td>0.0</td>\n",
       "      <td>2.59</td>\n",
       "      <td>0.59</td>\n",
       "      <td>4.92</td>\n",
       "      <td>0.0</td>\n",
       "      <td>32</td>\n",
       "      <td>15</td>\n",
       "      <td>248</td>\n",
       "      <td>738</td>\n",
       "      <td>1883</td>\n",
       "      <td>Saturday</td>\n",
       "      <td>0.000651544</td>\n",
       "    </tr>\n",
       "    <tr>\n",
       "      <th>16</th>\n",
       "      <td>1503960366</td>\n",
       "      <td>2016-04-10</td>\n",
       "      <td>10057</td>\n",
       "      <td>6.98</td>\n",
       "      <td>6.98</td>\n",
       "      <td>0.0</td>\n",
       "      <td>4.00</td>\n",
       "      <td>0.49</td>\n",
       "      <td>2.48</td>\n",
       "      <td>0.0</td>\n",
       "      <td>44</td>\n",
       "      <td>13</td>\n",
       "      <td>168</td>\n",
       "      <td>737</td>\n",
       "      <td>1755</td>\n",
       "      <td>Sunday</td>\n",
       "      <td>0.000694044</td>\n",
       "    </tr>\n",
       "    <tr>\n",
       "      <th>17</th>\n",
       "      <td>1503960366</td>\n",
       "      <td>2016-04-11</td>\n",
       "      <td>10990</td>\n",
       "      <td>7.26</td>\n",
       "      <td>7.26</td>\n",
       "      <td>0.0</td>\n",
       "      <td>2.04</td>\n",
       "      <td>0.57</td>\n",
       "      <td>4.65</td>\n",
       "      <td>0.0</td>\n",
       "      <td>26</td>\n",
       "      <td>14</td>\n",
       "      <td>216</td>\n",
       "      <td>855</td>\n",
       "      <td>1811</td>\n",
       "      <td>Monday</td>\n",
       "      <td>0.000660601</td>\n",
       "    </tr>\n",
       "  </tbody>\n",
       "</table>\n",
       "</div>"
      ],
      "text/plain": [
       "            Id ActivityDate  TotalSteps  TotalDistance  TrackerDistance  \\\n",
       "0   1503960366   2016-03-25       11004           7.11             7.11   \n",
       "1   1503960366   2016-03-26       17609          11.55            11.55   \n",
       "2   1503960366   2016-03-27       12736           8.53             8.53   \n",
       "3   1503960366   2016-03-28       13231           8.93             8.93   \n",
       "4   1503960366   2016-03-29       12041           7.85             7.85   \n",
       "5   1503960366   2016-03-30       10970           7.16             7.16   \n",
       "6   1503960366   2016-03-31       12256           7.86             7.86   \n",
       "7   1503960366   2016-04-01       12262           7.87             7.87   \n",
       "8   1503960366   2016-04-02       11248           7.25             7.25   \n",
       "9   1503960366   2016-04-03       10016           6.37             6.37   \n",
       "10  1503960366   2016-04-04       14557           9.80             9.80   \n",
       "11  1503960366   2016-04-05       14844           9.73             9.73   \n",
       "12  1503960366   2016-04-06       11974           7.67             7.67   \n",
       "13  1503960366   2016-04-07       10198           6.44             6.44   \n",
       "14  1503960366   2016-04-08       12521           7.94             7.94   \n",
       "15  1503960366   2016-04-09       12432           8.10             8.10   \n",
       "16  1503960366   2016-04-10       10057           6.98             6.98   \n",
       "17  1503960366   2016-04-11       10990           7.26             7.26   \n",
       "\n",
       "    LoggedActivitiesDistance  VeryActiveDistance  ModeratelyActiveDistance  \\\n",
       "0                        0.0                2.57                      0.46   \n",
       "1                        0.0                6.92                      0.73   \n",
       "2                        0.0                4.66                      0.16   \n",
       "3                        0.0                3.19                      0.79   \n",
       "4                        0.0                2.16                      1.09   \n",
       "5                        0.0                2.36                      0.51   \n",
       "6                        0.0                2.29                      0.49   \n",
       "7                        0.0                3.32                      0.83   \n",
       "8                        0.0                3.00                      0.45   \n",
       "9                        0.0                0.91                      1.28   \n",
       "10                       0.0                3.39                      0.70   \n",
       "11                       0.0                2.94                      0.76   \n",
       "12                       0.0                2.04                      0.48   \n",
       "13                       0.0                1.20                      0.79   \n",
       "14                       0.0                3.31                      0.90   \n",
       "15                       0.0                2.59                      0.59   \n",
       "16                       0.0                4.00                      0.49   \n",
       "17                       0.0                2.04                      0.57   \n",
       "\n",
       "    LightActiveDistance  SedentaryActiveDistance  VeryActiveMinutes  \\\n",
       "0                  4.07                      0.0                 33   \n",
       "1                  3.91                      0.0                 89   \n",
       "2                  3.71                      0.0                 56   \n",
       "3                  4.95                      0.0                 39   \n",
       "4                  4.61                      0.0                 28   \n",
       "5                  4.29                      0.0                 30   \n",
       "6                  5.04                      0.0                 33   \n",
       "7                  3.64                      0.0                 47   \n",
       "8                  3.74                      0.0                 40   \n",
       "9                  4.18                      0.0                 15   \n",
       "10                 5.69                      0.0                 43   \n",
       "11                 6.04                      0.0                 36   \n",
       "12                 5.15                      0.0                 27   \n",
       "13                 4.45                      0.0                 17   \n",
       "14                 3.74                      0.0                 46   \n",
       "15                 4.92                      0.0                 32   \n",
       "16                 2.48                      0.0                 44   \n",
       "17                 4.65                      0.0                 26   \n",
       "\n",
       "    FairlyActiveMinutes  LightlyActiveMinutes  SedentaryMinutes  Calories  \\\n",
       "0                    12                   205               804      1819   \n",
       "1                    17                   274               588      2154   \n",
       "2                     5                   268               605      1944   \n",
       "3                    20                   224              1080      1932   \n",
       "4                    28                   243               763      1886   \n",
       "5                    13                   223              1174      1820   \n",
       "6                    12                   239               820      1889   \n",
       "7                    21                   200               866      1868   \n",
       "8                    11                   244               636      1843   \n",
       "9                    30                   314               655      1850   \n",
       "10                   18                   285               757      2030   \n",
       "11                   18                   341               736      2083   \n",
       "12                   12                   228              1173      1861   \n",
       "13                   20                   195              1208      1755   \n",
       "14                   22                   212              1160      1895   \n",
       "15                   15                   248               738      1883   \n",
       "16                   13                   168               737      1755   \n",
       "17                   14                   216               855      1811   \n",
       "\n",
       "          Day     StepSize  \n",
       "0      Friday  0.000646129  \n",
       "1    Saturday  0.000655915  \n",
       "2      Sunday  0.000669755  \n",
       "3      Monday   0.00067493  \n",
       "4     Tuesday  0.000651939  \n",
       "5   Wednesday  0.000652689  \n",
       "6    Thursday  0.000641319  \n",
       "7      Friday   0.00064182  \n",
       "8    Saturday  0.000644559  \n",
       "9      Sunday  0.000635982  \n",
       "10     Monday  0.000673216  \n",
       "11    Tuesday  0.000655484  \n",
       "12  Wednesday  0.000640555  \n",
       "13   Thursday  0.000631496  \n",
       "14     Friday  0.000634135  \n",
       "15   Saturday  0.000651544  \n",
       "16     Sunday  0.000694044  \n",
       "17     Monday  0.000660601  "
      ]
     },
     "execution_count": 18,
     "metadata": {},
     "output_type": "execute_result"
    }
   ],
   "source": [
    "data[0:18]"
   ]
  },
  {
   "cell_type": "markdown",
   "metadata": {},
   "source": [
    "### Step Size vs Calories"
   ]
  },
  {
   "cell_type": "code",
   "execution_count": 19,
   "metadata": {},
   "outputs": [
    {
     "data": {
      "image/png": "[encoded data removed]",
      "text/plain": [
       "<Figure size 432x288 with 1 Axes>"
      ]
     },
     "metadata": {
      "needs_background": "light"
     },
     "output_type": "display_data"
    }
   ],
   "source": [
    "plt.scatter('StepSize','Calories',data=data)\n",
    "plt.xlabel('Step Size')\n",
    "plt.ylabel('Calories')\n",
    "plt.show()"
   ]
  },
  {
   "cell_type": "markdown",
   "metadata": {},
   "source": [
    "##### Insight : Hence we can see that most people have a step size between 0.6 metre - 0.8 metre"
   ]
  },
  {
   "cell_type": "markdown",
   "metadata": {},
   "source": [
    "### "
   ]
  },
  {
   "cell_type": "code",
   "execution_count": 20,
   "metadata": {},
   "outputs": [
    {
     "data": {
      "text/plain": [
       "Text(0, 0.5, 'Calories')"
      ]
     },
     "execution_count": 20,
     "metadata": {},
     "output_type": "execute_result"
    },
    {
     "data": {
      "image/png": "[encoded data removed]",
      "text/plain": [
       "<Figure size 432x288 with 1 Axes>"
      ]
     },
     "metadata": {
      "needs_background": "light"
     },
     "output_type": "display_data"
    }
   ],
   "source": [
    "plt.bar('SedentaryMinutes','Calories',data=data)\n",
    "plt.xlabel('Sedentary Minutes')\n",
    "plt.ylabel('Calories')"
   ]
  },
  {
   "cell_type": "markdown",
   "metadata": {},
   "source": [
    "## Total Distance Vs Calories \n",
    "#### As we know can expect to be a linear relationship "
   ]
  },
  {
   "cell_type": "code",
   "execution_count": 21,
   "metadata": {},
   "outputs": [
    {
     "data": {
      "text/plain": [
       "Text(0, 0.5, 'Calories')"
      ]
     },
     "execution_count": 21,
     "metadata": {},
     "output_type": "execute_result"
    },
    {
     "data": {
      "image/png": "[encoded data removed]",
      "text/plain": [
       "<Figure size 432x288 with 1 Axes>"
      ]
     },
     "metadata": {
      "needs_background": "light"
     },
     "output_type": "display_data"
    }
   ],
   "source": [
    "plt.scatter('TotalDistance','Calories',data=data)\n",
    "plt.xlabel('Total Distance')\n",
    "plt.ylabel('Calories')"
   ]
  },
  {
   "cell_type": "markdown",
   "metadata": {},
   "source": [
    "### Insight : Here we can see a (Tracker Error) as we see for 0 Distance there are calories burnt , Most probable these calories have been lost from other activities (i.e walking on a trademill)"
   ]
  },
  {
   "cell_type": "markdown",
   "metadata": {},
   "source": [
    "## Activity level Variations"
   ]
  },
  {
   "cell_type": "code",
   "execution_count": 22,
   "metadata": {},
   "outputs": [
    {
     "data": {
      "image/png": "[encoded data removed]",
      "text/plain": [
       "<Figure size 432x288 with 1 Axes>"
      ]
     },
     "metadata": {
      "needs_background": "light"
     },
     "output_type": "display_data"
    }
   ],
   "source": [
    "fig = plt.figure()\n",
    "ax1 = fig.add_subplot(111)\n",
    "ax1.scatter('VeryActiveMinutes','VeryActiveDistance', data=data, c='g', marker=\"o\", label='Very Active Minutes')\n",
    "ax1.set_xlim(0,100)\n",
    "ax1.set_xlabel('Very Active Minutes')\n",
    "ax1.set_ylabel('Very Active Distance')\n",
    "plt.legend(loc='upper right');\n",
    "plt.show()"
   ]
  },
  {
   "cell_type": "code",
   "execution_count": 23,
   "metadata": {},
   "outputs": [
    {
     "data": {
      "image/png": "[encoded data removed]",
      "text/plain": [
       "<Figure size 432x288 with 1 Axes>"
      ]
     },
     "metadata": {
      "needs_background": "light"
     },
     "output_type": "display_data"
    }
   ],
   "source": [
    "fig = plt.figure()\n",
    "ax1 = fig.add_subplot(111)\n",
    "ax1.scatter('FairlyActiveMinutes','ModeratelyActiveDistance', data=data, c='g', marker=\"o\", label='Very Active Minutes')\n",
    "ax1.set_xlim(0,100)\n",
    "ax1.set_xlabel('Moderately Active Minutes')\n",
    "ax1.set_ylabel('Moderately Active Distance')\n",
    "plt.legend(loc='upper right');\n",
    "plt.show()"
   ]
  },
  {
   "cell_type": "code",
   "execution_count": 24,
   "metadata": {},
   "outputs": [
    {
     "data": {
      "image/png": "[encoded data removed]",
      "text/plain": [
       "<Figure size 432x288 with 1 Axes>"
      ]
     },
     "metadata": {
      "needs_background": "light"
     },
     "output_type": "display_data"
    }
   ],
   "source": [
    "fig = plt.figure()\n",
    "ax1 = fig.add_subplot(111)\n",
    "ax1.scatter('LightlyActiveMinutes','LightlyActiveMinutes', data=data, c='g', marker=\"o\", label='Very Active Minutes')\n",
    "ax1.set_xlim(0,100)\n",
    "ax1.set_xlabel('Lightly Active Minutes')\n",
    "ax1.set_ylabel('Lightly Active Distance')\n",
    "plt.legend(loc='upper right');\n",
    "plt.show()"
   ]
  },
  {
   "cell_type": "code",
   "execution_count": 25,
   "metadata": {},
   "outputs": [],
   "source": [
    "data.to_csv('FitBitCleanedDataset.csv', header=False, index=False) "
   ]
  }
 ],
 "metadata": {
  "kernelspec": {
   "display_name": "Python 3",
   "language": "python",
   "name": "python3"
  },
  "language_info": {
   "codemirror_mode": {
    "name": "ipython",
    "version": 3
   },
   "file_extension": ".py",
   "mimetype": "text/x-python",
   "name": "python",
   "nbconvert_exporter": "python",
   "pygments_lexer": "ipython3",
   "version": "3.6.10"
  }
 },
 "nbformat": 4,
 "nbformat_minor": 4
}
